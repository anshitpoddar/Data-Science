{
 "cells": [
  {
   "cell_type": "code",
   "execution_count": 1,
   "id": "6f857749-335e-47b7-bbdb-53724e3d7189",
   "metadata": {},
   "outputs": [
    {
     "name": "stdin",
     "output_type": "stream",
     "text": [
      "Enter rows:  3\n",
      "Enter columns:  3\n",
      "Enter value for mat00:  0\n",
      "Enter value for mat01:  1\n",
      "Enter value for mat02:  2\n",
      "Enter value for mat10:  0\n",
      "Enter value for mat11:  2\n",
      "Enter value for mat12:  3\n",
      "Enter value for mat20:  0\n",
      "Enter value for mat21:  2\n",
      "Enter value for mat22:  4\n"
     ]
    },
    {
     "name": "stdout",
     "output_type": "stream",
     "text": [
      "[[0, 1, 2], [0, 2, 3], [0, 2, 4]]\n"
     ]
    }
   ],
   "source": [
    "# Make the matrix M=[[0,1,2],[0,2,3],[0,2,4]]\n",
    "# using append() function with a temp list\n",
    "\n",
    "matrix = []\n",
    "row = int(input('Enter rows: '))\n",
    "col = int(input('Enter columns: '))\n",
    "\n",
    "for i in range(row):\n",
    "    temp = []\n",
    "    for j in range(col):\n",
    "        ele = int(input(f'Enter value for mat{i}{j}: '))\n",
    "        temp.append(ele)\n",
    "    matrix.append(temp)\n",
    "\n",
    "print(matrix)"
   ]
  },
  {
   "cell_type": "code",
   "execution_count": 2,
   "id": "90c70749-1412-4959-b4d7-f8e62d250adf",
   "metadata": {},
   "outputs": [
    {
     "name": "stdout",
     "output_type": "stream",
     "text": [
      "[[0, 1, 2], [0, 2, 3], [0, 3, 4]]\n"
     ]
    }
   ],
   "source": [
    "# using entry_fn(i,j) by defining the (ij)-th element and list comprehension\n",
    "\n",
    "def entry_fn(i, j):\n",
    "    if j == 0:\n",
    "        return 0\n",
    "    elif j == 1:\n",
    "        return i + 1\n",
    "    elif j == 2:\n",
    "        if i == 1:\n",
    "            return 3\n",
    "        elif i == 2:\n",
    "            return 4\n",
    "        else:\n",
    "            return 2\n",
    "        \n",
    "matrix = [[entry_fn(i, j) for j in range(3)] for i in range(3)]\n",
    "\n",
    "# Printing the matrix\n",
    "print(matrix)"
   ]
  },
  {
   "cell_type": "code",
   "execution_count": null,
   "id": "77f93c7c-2cd6-4ee7-8d2b-6729c434f080",
   "metadata": {},
   "outputs": [],
   "source": []
  }
 ],
 "metadata": {
  "kernelspec": {
   "display_name": "Python 3 (ipykernel)",
   "language": "python",
   "name": "python3"
  },
  "language_info": {
   "codemirror_mode": {
    "name": "ipython",
    "version": 3
   },
   "file_extension": ".py",
   "mimetype": "text/x-python",
   "name": "python",
   "nbconvert_exporter": "python",
   "pygments_lexer": "ipython3",
   "version": "3.9.13"
  }
 },
 "nbformat": 4,
 "nbformat_minor": 5
}
